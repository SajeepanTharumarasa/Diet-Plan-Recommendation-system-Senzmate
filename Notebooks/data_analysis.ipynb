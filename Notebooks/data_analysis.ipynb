{
 "cells": [
  {
   "cell_type": "markdown",
   "metadata": {},
   "source": [
    "# Extracting Breakfast Foods"
   ]
  },
  {
   "cell_type": "code",
   "execution_count": 1,
   "metadata": {},
   "outputs": [
    {
     "name": "stderr",
     "output_type": "stream",
     "text": [
      "C:\\Users\\sajee\\AppData\\Local\\Temp\\ipykernel_13504\\523860199.py:4: DtypeWarning: Columns (63,69,91,97,118,122,131,136) have mixed types. Specify dtype option on import or set low_memory=False.\n",
      "  df = pd.read_csv('E:\\SenzMate\\Diet-Plan\\Data\\Diet_Plan_New.csv')\n"
     ]
    }
   ],
   "source": [
    "import pandas as pd\n",
    "\n",
    "# Load the dataset\n",
    "df = pd.read_csv('E:\\SenzMate\\Diet-Plan\\Data\\Diet_Plan_New.csv')\n",
    "\n",
    "# Define the columns you want to extract and their order\n",
    "item_1 = ['BrItem_1', 'BrSer_1', 'BrCal_1', 'BrCarb_1', 'BrPro_1', 'BrFat_1', 'BrFib_1','Diet']\n",
    "item_2 = ['BrItem_2', 'BrSer_2', 'BrCal_2', 'BrCarb_2', 'BrPro_2', 'BrFat_2', 'BrFib_2','Diet']\n",
    "item_3 = ['BrItem_3', 'BrSer_3', 'BrCal_3', 'BrCarb_3', 'BrPro_3', 'BrFat_3', 'BrFib_3','Diet']\n",
    "item_4 = ['BrItem_4', 'BrSer_4', 'BrCal_4', 'BrCarb_4', 'BrPro_4', 'BrFat_4', 'BrFib_4','Diet']\n",
    "\n",
    "# Extract the DataFrames\n",
    "new_df1 = df[item_1]\n",
    "new_df2 = df[item_2]\n",
    "new_df3 = df[item_3]\n",
    "new_df4 = df[item_4]\n",
    "\n",
    "# Rename columns to be consistent\n",
    "new_df1.columns = ['Item', 'Serving', 'Calories', 'Carbs', 'Protein', 'Fat', 'Fiber','Diet']\n",
    "new_df2.columns = ['Item', 'Serving', 'Calories', 'Carbs', 'Protein', 'Fat', 'Fiber','Diet']\n",
    "new_df3.columns = ['Item', 'Serving', 'Calories', 'Carbs', 'Protein', 'Fat', 'Fiber','Diet']\n",
    "new_df4.columns = ['Item', 'Serving', 'Calories', 'Carbs', 'Protein', 'Fat', 'Fiber','Diet']\n",
    "\n",
    "# Concatenate the DataFrames\n",
    "breakfast_df = pd.concat([new_df1, new_df2, new_df3, new_df4], axis=0, ignore_index=True)\n",
    "\n",
    "# # Display the combined DataFrame\n",
    "# combined_df.to_csv('Breakfast.csv', index=False)\n",
    "\n",
    "# print(\"New dataset saved successfully!\")"
   ]
  },
  {
   "cell_type": "markdown",
   "metadata": {},
   "source": [
    "# Extracting Lunch Foods"
   ]
  },
  {
   "cell_type": "code",
   "execution_count": 2,
   "metadata": {},
   "outputs": [
    {
     "name": "stderr",
     "output_type": "stream",
     "text": [
      "C:\\Users\\sajee\\AppData\\Local\\Temp\\ipykernel_13504\\435386209.py:4: DtypeWarning: Columns (63,69,91,97,118,122,131,136) have mixed types. Specify dtype option on import or set low_memory=False.\n",
      "  df = pd.read_csv('E:\\SenzMate\\Diet-Plan\\Data\\Diet_Plan_New.csv')\n"
     ]
    }
   ],
   "source": [
    "import pandas as pd\n",
    "\n",
    "# Load the dataset\n",
    "df = pd.read_csv('E:\\SenzMate\\Diet-Plan\\Data\\Diet_Plan_New.csv')\n",
    "\n",
    "# Define the columns you want to extract and their order\n",
    "item_1 = ['LnItem_1', 'LnSer_1', 'LnCal_1', 'LnCarb_1', 'LnPro_1', 'LnFat_1', 'LnFib_1','Diet']\n",
    "item_1 = ['LnItem_1', 'LnSer_1', 'LnCal_1', 'LnCarb_1', 'LnPro_1', 'LnFat_1', 'LnFib_1','Diet']\n",
    "item_2 = ['LnItem_2', 'LnSer_2', 'LnCal_2', 'LnCarb_2', 'LnPro_2', 'LnFat_2', 'LnFib_2','Diet']\n",
    "item_3 = ['LnItem_3', 'LnSer_3', 'LnCal_3', 'LnCarb_3', 'LnPro_3', 'LnFat_3', 'LnFib_3','Diet']\n",
    "item_4 = ['LnItem_4', 'LnSer_4', 'LnCal_4', 'LnCarb_4', 'LnPro_4', 'LnFat_4', 'LnFib_4','Diet']\n",
    "item_5 = ['LnItem_5', 'LnSer_5', 'LnCal_5', 'LnCarb_5', 'LnPro_5', 'LnFat_5', 'LnFib_5','Diet']\n",
    "item_6 = ['LnItem_6', 'LnSer_6', 'LnCal_6', 'LnCarb_6', 'LnPro_6', 'LnFat_6', 'LnFib_6','Diet']\n",
    "\n",
    "\n",
    "\n",
    "# Extract the DataFrames\n",
    "new_df1 = df[item_1]\n",
    "new_df2 = df[item_2]\n",
    "new_df3 = df[item_3]\n",
    "new_df4 = df[item_4]\n",
    "new_df5 = df[item_5]\n",
    "new_df6 = df[item_6]\n",
    "\n",
    "\n",
    "# Rename columns to be consistent\n",
    "new_df1.columns = ['Item', 'Serving', 'Calories', 'Carbs', 'Protein', 'Fat', 'Fiber','Diet']\n",
    "new_df2.columns = ['Item', 'Serving', 'Calories', 'Carbs', 'Protein', 'Fat', 'Fiber','Diet']\n",
    "new_df3.columns = ['Item', 'Serving', 'Calories', 'Carbs', 'Protein', 'Fat', 'Fiber','Diet']\n",
    "new_df4.columns = ['Item', 'Serving', 'Calories', 'Carbs', 'Protein', 'Fat', 'Fiber','Diet']\n",
    "new_df5.columns = ['Item', 'Serving', 'Calories', 'Carbs', 'Protein', 'Fat', 'Fiber','Diet']\n",
    "new_df6.columns = ['Item', 'Serving', 'Calories', 'Carbs', 'Protein', 'Fat', 'Fiber','Diet']\n",
    "\n",
    "\n",
    "# Concatenate the DataFrames\n",
    "lunch_df = pd.concat([new_df1, new_df2, new_df3, new_df4,new_df5,new_df6], axis=0, ignore_index=True)\n"
   ]
  },
  {
   "cell_type": "markdown",
   "metadata": {},
   "source": [
    "# Extracting Dinner Food Items"
   ]
  },
  {
   "cell_type": "code",
   "execution_count": 3,
   "metadata": {},
   "outputs": [
    {
     "name": "stderr",
     "output_type": "stream",
     "text": [
      "C:\\Users\\sajee\\AppData\\Local\\Temp\\ipykernel_13504\\236508452.py:4: DtypeWarning: Columns (63,69,91,97,118,122,131,136) have mixed types. Specify dtype option on import or set low_memory=False.\n",
      "  df = pd.read_csv('E:\\SenzMate\\Diet-Plan\\Data\\Diet_Plan_New.csv')\n"
     ]
    }
   ],
   "source": [
    "import pandas as pd\n",
    "\n",
    "# Load the dataset\n",
    "df = pd.read_csv('E:\\SenzMate\\Diet-Plan\\Data\\Diet_Plan_New.csv')\n",
    "\n",
    "# Define the columns you want to extract and their order\n",
    "item_1 = ['DnItem_1', 'DnSer_1', 'DnCal_1', 'DnCarb_1', 'DnPro_1', 'DnFat_1', 'DnFib_1','Diet']\n",
    "item_2 = ['DnItem_2', 'DnSer_2', 'DnCal_2', 'DnCarb_2', 'DnPro_2', 'DnFat_2', 'DnFib_2', 'Diet']\n",
    "item_3 = ['DnItem_3', 'DnSer_3', 'DnCal_3', 'DnCarb_3', 'DnPro_3', 'DnFat_3', 'DnFib_3','Diet']\n",
    "item_4 = ['DnItem_4', 'DnSer_4', 'DnCal_4', 'DnCarb_4', 'DnPro_4', 'DnFat_4', 'DnFib_4','Diet']\n",
    "item_5 = ['DnItem_5', 'DnSer_5', 'DnCal_5', 'DnCarb_5', 'DnPro_5', 'DnFat_5', 'DnFib_5','Diet']\n",
    "\n",
    "# Extract the DataFrames\n",
    "new_df1 = df[item_1]\n",
    "new_df2 = df[item_2]\n",
    "new_df3 = df[item_3]\n",
    "new_df4 = df[item_4]\n",
    "new_df5 = df[item_5]\n",
    "\n",
    "# Rename columns to be consistent\n",
    "new_df1.columns = ['Item', 'Serving', 'Calories', 'Carbs', 'Protein', 'Fat', 'Fiber', 'Diet']\n",
    "new_df2.columns = ['Item', 'Serving', 'Calories', 'Carbs', 'Protein', 'Fat', 'Fiber', 'Diet']\n",
    "new_df3.columns = ['Item', 'Serving', 'Calories', 'Carbs', 'Protein', 'Fat', 'Fiber', 'Diet']\n",
    "new_df4.columns = ['Item', 'Serving', 'Calories', 'Carbs', 'Protein', 'Fat', 'Fiber', 'Diet']\n",
    "new_df5.columns = ['Item', 'Serving', 'Calories', 'Carbs', 'Protein', 'Fat', 'Fiber','Diet']\n",
    "\n",
    "# Concatenate the DataFrames\n",
    "dinner_df = pd.concat([new_df1, new_df2, new_df3, new_df4], axis=0, ignore_index=True)\n"
   ]
  },
  {
   "cell_type": "code",
   "execution_count": 4,
   "metadata": {},
   "outputs": [
    {
     "name": "stderr",
     "output_type": "stream",
     "text": [
      "C:\\Users\\sajee\\AppData\\Local\\Temp\\ipykernel_13504\\1591755372.py:4: DtypeWarning: Columns (63,69,91,97,118,122,131,136) have mixed types. Specify dtype option on import or set low_memory=False.\n",
      "  df = pd.read_csv('E:\\SenzMate\\Diet-Plan\\Data\\Diet_Plan_New.csv')\n"
     ]
    }
   ],
   "source": [
    "import pandas as pd\n",
    "\n",
    "# Load the dataset\n",
    "df = pd.read_csv('E:\\SenzMate\\Diet-Plan\\Data\\Diet_Plan_New.csv')\n",
    "\n",
    "# Define the columns you want to extract and their order\n",
    "item_1 = ['PreWItem_1', 'PreWSer_1', 'PreWCal_1', 'PreWCarb_1', 'PreWPro_1', 'PreWFat_1', 'PreWFib_1','Diet']\n",
    "item_2 = ['PreWItem_2', 'PreWSer_2', 'PreWCal_2', 'PreWCarb_2', 'PreWPro_2', 'PreWFat_2', 'PreWFib_2', 'Diet']\n",
    "item_3 = ['PreWItem_3', 'PreWSer_3', 'PreWCal_3', 'PreWCarb_3', 'PreWPro_3', 'PreWFat_3', 'PreWFib_3','Diet']\n",
    "item_4 = ['PreWItem_4', 'PreWSer_4', 'PreWCal_4', 'PreWCarb_4', 'PreWPro_4', 'PreWFat_4', 'PreWFib_4','Diet']\n",
    "\n",
    "# Extract the DataFrames\n",
    "new_df1 = df[item_1]\n",
    "new_df2 = df[item_2]\n",
    "new_df3 = df[item_3]\n",
    "new_df4 = df[item_4]\n",
    "\n",
    "# Rename columns to be consistent\n",
    "new_df1.columns = ['Item', 'Serving', 'Calories', 'Carbs', 'Protein', 'Fat', 'Fiber','Diet']\n",
    "new_df2.columns = ['Item', 'Serving', 'Calories', 'Carbs', 'Protein', 'Fat', 'Fiber','Diet']\n",
    "new_df3.columns = ['Item', 'Serving', 'Calories', 'Carbs', 'Protein', 'Fat', 'Fiber','Diet']\n",
    "new_df4.columns = ['Item', 'Serving', 'Calories', 'Carbs', 'Protein', 'Fat', 'Fiber','Diet']\n",
    "\n",
    "# Concatenate the DataFrames\n",
    "prework_df = pd.concat([new_df1, new_df2, new_df3, new_df4], axis=0, ignore_index=True)\n",
    "\n"
   ]
  },
  {
   "cell_type": "code",
   "execution_count": 5,
   "metadata": {},
   "outputs": [
    {
     "name": "stderr",
     "output_type": "stream",
     "text": [
      "C:\\Users\\sajee\\AppData\\Local\\Temp\\ipykernel_13504\\2826210571.py:4: DtypeWarning: Columns (63,69,91,97,118,122,131,136) have mixed types. Specify dtype option on import or set low_memory=False.\n",
      "  df = pd.read_csv('E:\\SenzMate\\Diet-Plan\\Data\\Diet_Plan_New.csv')\n"
     ]
    }
   ],
   "source": [
    "import pandas as pd\n",
    "\n",
    "# Load the dataset\n",
    "df = pd.read_csv('E:\\SenzMate\\Diet-Plan\\Data\\Diet_Plan_New.csv')\n",
    "\n",
    "# Define the columns you want to extract and their order\n",
    "item_1 = ['PostWItem_1', 'PostWSer_1', 'PostWCal_1', 'PostWCarb_1', 'PostWPro_1', 'PostWFat_1', 'PostWFib_1','Diet']\n",
    "item_2 = ['PostWItem_2', 'PostWSer_2', 'PostWCal_2', 'PostWCarb_2', 'PostWPro_2', 'PostWFat_2', 'PostWFib_2', 'Diet']\n",
    "item_3 = ['PostWItem_3', 'PostWSer_3', 'PostWCal_3', 'PostWCarb_3', 'PostWPro_3', 'PostWFat_3', 'PostWFib_3','Diet']\n",
    "\n",
    "# Extract the DataFrames\n",
    "new_df1 = df[item_1]\n",
    "new_df2 = df[item_2]\n",
    "new_df3 = df[item_3]\n",
    "\n",
    "# Rename columns to be consistent\n",
    "new_df1.columns = ['Item', 'Serving', 'Calories', 'Carbs', 'Protein', 'Fat', 'Fiber','Diet']\n",
    "new_df2.columns = ['Item', 'Serving', 'Calories', 'Carbs', 'Protein', 'Fat', 'Fiber','Diet']\n",
    "new_df3.columns = ['Item', 'Serving', 'Calories', 'Carbs', 'Protein', 'Fat', 'Fiber','Diet']\n",
    "\n",
    "# Concatenate the DataFrames\n",
    "post_df = pd.concat([new_df1, new_df2, new_df3], axis=0, ignore_index=True)"
   ]
  },
  {
   "cell_type": "code",
   "execution_count": 6,
   "metadata": {},
   "outputs": [
    {
     "name": "stderr",
     "output_type": "stream",
     "text": [
      "C:\\Users\\sajee\\AppData\\Local\\Temp\\ipykernel_13504\\3085805174.py:4: DtypeWarning: Columns (63,69,91,97,118,122,131,136) have mixed types. Specify dtype option on import or set low_memory=False.\n",
      "  df = pd.read_csv('E:\\SenzMate\\Diet-Plan\\Data\\Diet_Plan_New.csv')\n"
     ]
    }
   ],
   "source": [
    "import pandas as pd\n",
    "\n",
    "# Load the dataset\n",
    "df = pd.read_csv('E:\\SenzMate\\Diet-Plan\\Data\\Diet_Plan_New.csv')\n",
    "\n",
    "# Define the columns you want to extract and their order\n",
    "item_1 = ['MSItem_1', 'MSSer_1', 'MSCal_1', 'MSCarb_1', 'MSPro_1', 'MSFat_1', 'MSFib_1','Diet']\n",
    "item_2 = ['MSItem_2', 'MSSer_2', 'MSCal_2', 'MSCarb_2', 'MSPro_2', 'MSFat_2', 'MSFib_2', 'Diet']\n",
    "item_3 = ['MSItem_3', 'MSSer_3', 'MSCal_3', 'MSCarb_3', 'MSPro_3', 'MSFat_3', 'MSFib_3','Diet']\n",
    "item_4 = ['MSItem_4', 'MSSer_4', 'MSCal_4', 'MSCarb_4', 'MSPro_4', 'MSFat_4', 'MSFib_4','Diet']\n",
    "\n",
    "# Extract the DataFrames\n",
    "new_df1 = df[item_1]\n",
    "new_df2 = df[item_2]\n",
    "new_df3 = df[item_3]\n",
    "new_df4 = df[item_4]\n",
    "\n",
    "# Rename columns to be consistent\n",
    "new_df1.columns = ['Item', 'Serving', 'Calories', 'Carbs', 'Protein', 'Fat', 'Fiber','Diet']\n",
    "new_df2.columns = ['Item', 'Serving', 'Calories', 'Carbs', 'Protein', 'Fat', 'Fiber','Diet']\n",
    "new_df3.columns = ['Item', 'Serving', 'Calories', 'Carbs', 'Protein', 'Fat', 'Fiber','Diet']\n",
    "new_df4.columns = ['Item', 'Serving', 'Calories', 'Carbs', 'Protein', 'Fat', 'Fiber','Diet']\n",
    "\n",
    "# Concatenate the DataFrames\n",
    "morning_snack = pd.concat([new_df1, new_df2, new_df3, new_df4], axis=0, ignore_index=True)\n"
   ]
  },
  {
   "cell_type": "code",
   "execution_count": 7,
   "metadata": {},
   "outputs": [
    {
     "name": "stderr",
     "output_type": "stream",
     "text": [
      "C:\\Users\\sajee\\AppData\\Local\\Temp\\ipykernel_13504\\4200621125.py:4: DtypeWarning: Columns (63,69,91,97,118,122,131,136) have mixed types. Specify dtype option on import or set low_memory=False.\n",
      "  df = pd.read_csv('E:\\SenzMate\\Diet-Plan\\Data\\Diet_Plan_New.csv')\n"
     ]
    }
   ],
   "source": [
    "import pandas as pd\n",
    "\n",
    "# Load the dataset\n",
    "df = pd.read_csv('E:\\SenzMate\\Diet-Plan\\Data\\Diet_Plan_New.csv')\n",
    "\n",
    "# Define the columns you want to extract and their order\n",
    "item_1 = ['ESItem_1', 'ESSer_1', 'ESCal_1', 'ESCarb_1', 'ESPro_1', 'ESFat_1', 'ESFib_1','Diet']\n",
    "item_2 = ['ESItem_2', 'ESSer_2', 'ESCal_2', 'ESCarb_2', 'ESPro_2', 'ESFat_2', 'ESFib_2', 'Diet']\n",
    "\n",
    "# Extract the DataFrames\n",
    "new_df1 = df[item_1]\n",
    "new_df2 = df[item_2]\n",
    "\n",
    "# Rename columns to be consistent\n",
    "new_df1.columns = ['Item', 'Serving', 'Calories', 'Carbs', 'Protein', 'Fat', 'Fiber','Diet']\n",
    "new_df2.columns = ['Item', 'Serving', 'Calories', 'Carbs', 'Protein', 'Fat', 'Fiber','Diet']\n",
    "\n",
    "# Concatenate the DataFrames\n",
    "evening_snack = pd.concat([new_df1, new_df2], axis=0, ignore_index=True)"
   ]
  },
  {
   "cell_type": "code",
   "execution_count": 8,
   "metadata": {},
   "outputs": [],
   "source": [
    "# Concatinate all snack"
   ]
  },
  {
   "cell_type": "code",
   "execution_count": 9,
   "metadata": {},
   "outputs": [],
   "source": [
    "all_foods = pd.concat([breakfast_df, lunch_df,dinner_df, prework_df, post_df, morning_snack, evening_snack], axis=0, ignore_index=True)"
   ]
  },
  {
   "cell_type": "code",
   "execution_count": 11,
   "metadata": {},
   "outputs": [],
   "source": [
    "import pandas as pd\n",
    "\n",
    "# Load the CSV file\n",
    "df = pd.read_csv('Breakfast.csv')\n",
    "\n",
    "# Remove duplicates based on a specific column\n",
    "new_df = all_foods.drop_duplicates(subset=['Item'])\n",
    "new_df.to_csv('all_foods.csv', index=False)\n"
   ]
  },
  {
   "cell_type": "code",
   "execution_count": null,
   "metadata": {},
   "outputs": [
    {
     "name": "stdout",
     "output_type": "stream",
     "text": [
      "Index(['day', 'Overall_Calories', 'Overall_Proteins', 'Overall_Carbs',\n",
      "       'Overall_Fats', 'Overall_Fibres', 'Breakfast_Items', 'Lunch_Items',\n",
      "       'Dinner_Items', 'Pre_workout_snack_Items',\n",
      "       ...\n",
      "       'PreWFib_4', 'PostWFib_1', 'PostWFib_2', 'PostWFib_3', 'MSFib_1',\n",
      "       'MSFib_2', 'MSFib_3', 'MSFib_4', 'ESFib_1', 'ESFib_2'],\n",
      "      dtype='object', length=256)\n"
     ]
    }
   ],
   "source": [
    "print(df.columns)\n"
   ]
  }
 ],
 "metadata": {
  "kernelspec": {
   "display_name": "Python 3",
   "language": "python",
   "name": "python3"
  },
  "language_info": {
   "codemirror_mode": {
    "name": "ipython",
    "version": 3
   },
   "file_extension": ".py",
   "mimetype": "text/x-python",
   "name": "python",
   "nbconvert_exporter": "python",
   "pygments_lexer": "ipython3",
   "version": "3.9.0"
  }
 },
 "nbformat": 4,
 "nbformat_minor": 2
}
